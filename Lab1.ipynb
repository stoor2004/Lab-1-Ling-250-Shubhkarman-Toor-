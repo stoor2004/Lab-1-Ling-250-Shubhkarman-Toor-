{
 "cells": [
  {
   "cell_type": "markdown",
   "metadata": {},
   "source": [
    "# Lab 1 - Intro to Jupyter Notebooks\n",
    "\n",
    "In this assignment you will be asked to perform some basic tasks related to the operations of Jupyter notebooks. Learning these basics is important since Jupyter Notebooks will be one of the ways you will be turning in assignments this semester. All the information needed to complete this can be found in the assigned reading for this week. [Week1 Reading](https://realpython.com/jupyter-notebook-introduction/)"
   ]
  },
  {
   "cell_type": "markdown",
   "metadata": {},
   "source": [
    "### Notebook basics\n",
    "\n",
    "We will go over some basic notebook functions and after that, we will move on to learn some of the basics of Python. Try to run the following code block. Remember that the shortcut is `shift+enter`:"
   ]
  },
  {
   "cell_type": "code",
   "execution_count": 1,
   "metadata": {
    "tags": []
   },
   "outputs": [
    {
     "name": "stdout",
     "output_type": "stream",
     "text": [
      "Welcome to SDA 250!\n",
      "Using the 'insert' tab add a code block and change its type to \"markdown\" using the drop-down bar. \n",
      "In that markdown block write a short introduction about why you are taking this course.\n",
      "Don't forget to add your name at the top as a header.\n",
      "Also add a bullet list of the top 3 skills you want to learn in this course.\n"
     ]
    }
   ],
   "source": [
    "print(\"Welcome to SDA 250!\")\n",
    "print(\"Using the 'insert' tab add a code block and change its type to \\\"markdown\\\" using the drop-down bar. \")\n",
    "print(\"In that markdown block write a short introduction about why you are taking this course.\")\n",
    "print(\"Don't forget to add your name at the top as a header.\")\n",
    "print(\"Also add a bullet list of the top 3 skills you want to learn in this course.\")"
   ]
  },
  {
   "cell_type": "code",
   "execution_count": 42,
   "metadata": {
    "tags": []
   },
   "outputs": [
    {
     "name": "stdout",
     "output_type": "stream",
     "text": [
      "Welcome to SDA 250!\n",
      "Using the 'insert' tab add a code block and change its type to \"markdown\" using the drop-down bar. \n",
      "In that markdown block write a short introduction about why you are taking this course.\n",
      "Don't forget to add your name at the top as a header.\n",
      "Also add a bullet list of the top 3 skills you want to learn in this course.\n"
     ]
    }
   ],
   "source": [
    "print(\"Welcome to SDA 250!\")\n",
    "print(\"Using the 'insert' tab add a code block and change its type to \\\"markdown\\\" using the drop-down bar. \")\n",
    "print(\"In that markdown block write a short introduction about why you are taking this course.\")\n",
    "print(\"Don't forget to add your name at the top as a header.\")\n",
    "print(\"Also add a bullet list of the top 3 skills you want to learn in this course.\")"
   ]
  },
  {
   "cell_type": "markdown",
   "metadata": {},
   "source": [
    "Great! We hope you have fun in the course while learning about using text as data and how to process it. Now that you know how to add \"markdown\" blocks, you should make sure to use them during this semester to add explanations to your code. If you want more information on how to style using markdown, go to this link: [Markdown Syntax](https://www.markdownguide.org/basic-syntax/)"
   ]
  },
  {
   "cell_type": "markdown",
   "metadata": {},
   "source": [
    "***\n",
    "Next, create a code block and use it to print whether you have any programming experience.\n",
    "\n",
    "Remember that to print in python, you use the `print()` function and put whatever you want to print in quotation marks inside the parentheses\n",
    "\n",
    "***"
   ]
  },
  {
   "cell_type": "code",
   "execution_count": 43,
   "metadata": {
    "tags": []
   },
   "outputs": [
    {
     "name": "stdout",
     "output_type": "stream",
     "text": [
      "my programming experience\n"
     ]
    }
   ],
   "source": [
    "print(\"my programming experience\")"
   ]
  },
  {
   "cell_type": "code",
   "execution_count": 47,
   "metadata": {
    "tags": []
   },
   "outputs": [
    {
     "name": "stdout",
     "output_type": "stream",
     "text": [
      "my programming experience\n"
     ]
    }
   ],
   "source": [
    "print(\"my programming experience\")"
   ]
  },
  {
   "cell_type": "markdown",
   "metadata": {},
   "source": [
    "***\n",
    "Every introduction to programming needs to start with printing the phrase \"Hello world!\". So use the `print()` function to do so below.\n",
    "***"
   ]
  },
  {
   "cell_type": "code",
   "execution_count": 48,
   "metadata": {
    "tags": []
   },
   "outputs": [
    {
     "name": "stdout",
     "output_type": "stream",
     "text": [
      "Hello world\n"
     ]
    }
   ],
   "source": [
    "print(\"Hello world\")"
   ]
  },
  {
   "cell_type": "markdown",
   "metadata": {},
   "source": [
    "### A short introduction to Python\n",
    "\n",
    "For the last part of this lab we will have a quick look at some basic python syntax.\n",
    "\n",
    "You already learned how to print something in python using the `print()` function. Functions like print are going to allow you to interact with the data, analyze it, and modify it. But in order to use various functions, we first need to look at what **variables** are.\n",
    "\n",
    "A variable is really just a way to store information like numbers, strings of words or even whole texts. To use a variable in Python you need to give the variable a name and then give it some value."
   ]
  },
  {
   "cell_type": "markdown",
   "metadata": {},
   "source": [
    "***\n",
    "In the following code block I created two variables, one called `name` which stores a string and one called `age` which stores a number. I then print them out.\n",
    "\n",
    "Notice that in order to assign strings to a variable you need to put the string in quotation marks. Whenever Python sees something in quotation marks, it will assume that it is a string. This means that when you want to print the contents of a variable, you do not want to put it in quotation marks, since that will just print the name of the variable instead of the contents.\n",
    "\n",
    "Before running the following code block, try to understand what it does and to predict what it will output. Now that you have a prediction, go ahead and run it. Did the prediction come true?\n",
    "***"
   ]
  },
  {
   "cell_type": "code",
   "execution_count": 44,
   "metadata": {
    "tags": []
   },
   "outputs": [
    {
     "name": "stdout",
     "output_type": "stream",
     "text": [
      "sam\n",
      "21\n",
      "name\n",
      "age\n"
     ]
    }
   ],
   "source": [
    "name = \"sam\"\n",
    "age = 21\n",
    "\n",
    "print(name)\n",
    "print(age)\n",
    "\n",
    "# if we put quotation marks around the variable name it will just print the name of the variable\n",
    "print(\"name\")\n",
    "print(\"age\")"
   ]
  },
  {
   "cell_type": "markdown",
   "metadata": {},
   "source": [
    "Take note of the 'comment' line. A comment line in python is any line that starts with a \"hashtag\" (#). This hashtag tells Python to ignore whatever is behind the hashtag and to go to the next line."
   ]
  },
  {
   "cell_type": "markdown",
   "metadata": {},
   "source": [
    "***\n",
    "Now create another code block and create some of your own variables and give them a value. Then print the variables and use comments to predict what they will print. Also, try to put quotation marks around the variable name and predict what it will print.\n",
    "***"
   ]
  },
  {
   "cell_type": "code",
   "execution_count": 46,
   "metadata": {
    "tags": []
   },
   "outputs": [
    {
     "name": "stdout",
     "output_type": "stream",
     "text": [
      "shubhkarman\n",
      "18\n",
      "shubhkarman\n",
      "18\n"
     ]
    }
   ],
   "source": [
    "name = \"shubhkarman\" \n",
    "age = 18\n",
    "\n",
    "print (\"shubhkarman\") \n",
    "print(18)\n",
    "\n",
    "print(\"shubhkarman\") \n",
    "print(\"18\")\n"
   ]
  },
  {
   "cell_type": "markdown",
   "metadata": {},
   "source": [
    "***\n",
    "Now that you are familiar with variables, comments, and how to print we will move on to some basic math operations. Python supports the basic math operators `+`, `-`, `*` and `/` \n",
    "which stand for addition, subtraction, multiplication and division. Try to predict the answers of the following print statements before running them. Insert your predictions in the comments __before__ running them!\n",
    "***"
   ]
  },
  {
   "cell_type": "code",
   "execution_count": 5,
   "metadata": {
    "tags": []
   },
   "outputs": [
    {
     "name": "stdout",
     "output_type": "stream",
     "text": [
      "3\n"
     ]
    }
   ],
   "source": [
    "# this will print: \n",
    "print(1+2)"
   ]
  },
  {
   "cell_type": "code",
   "execution_count": 8,
   "metadata": {
    "tags": []
   },
   "outputs": [
    {
     "name": "stdout",
     "output_type": "stream",
     "text": [
      "3\n"
     ]
    }
   ],
   "source": [
    "1+2 == 3 \n",
    "\n",
    "print(1+2) "
   ]
  },
  {
   "cell_type": "code",
   "execution_count": 13,
   "metadata": {
    "tags": []
   },
   "outputs": [],
   "source": [
    "#1+2"
   ]
  },
  {
   "cell_type": "code",
   "execution_count": 14,
   "metadata": {
    "tags": []
   },
   "outputs": [],
   "source": [
    "#1+2 "
   ]
  },
  {
   "cell_type": "code",
   "execution_count": 16,
   "metadata": {
    "tags": []
   },
   "outputs": [
    {
     "name": "stdout",
     "output_type": "stream",
     "text": [
      "12\n"
     ]
    }
   ],
   "source": [
    "# this will print:\n",
    "print(3*4)"
   ]
  },
  {
   "cell_type": "code",
   "execution_count": 15,
   "metadata": {
    "tags": []
   },
   "outputs": [
    {
     "name": "stdout",
     "output_type": "stream",
     "text": [
      "12\n"
     ]
    }
   ],
   "source": [
    "#12:\n",
    "print(3*4)"
   ]
  },
  {
   "cell_type": "code",
   "execution_count": 18,
   "metadata": {
    "tags": []
   },
   "outputs": [
    {
     "name": "stdout",
     "output_type": "stream",
     "text": [
      "5\n"
     ]
    }
   ],
   "source": [
    "x = 10\n",
    "y = 5\n",
    "\n",
    "# this will print:\n",
    "print(x - y)"
   ]
  },
  {
   "cell_type": "code",
   "execution_count": 17,
   "metadata": {
    "tags": []
   },
   "outputs": [
    {
     "name": "stdout",
     "output_type": "stream",
     "text": [
      "5\n"
     ]
    }
   ],
   "source": [
    "x = 10\n",
    "y = 5 \n",
    "#5\n",
    "print(10-5)\n"
   ]
  },
  {
   "cell_type": "code",
   "execution_count": 20,
   "metadata": {
    "tags": []
   },
   "outputs": [
    {
     "name": "stdout",
     "output_type": "stream",
     "text": [
      "15\n",
      "number2\n",
      "5.0\n"
     ]
    }
   ],
   "source": [
    "number1 = 15\n",
    "number2 = 3\n",
    "result = number1 / number2\n",
    "\n",
    "# this will print:\n",
    "print(number1)\n",
    "\n",
    "# this will print:\n",
    "print(\"number2\")\n",
    "\n",
    "# this will print:\n",
    "print(result)"
   ]
  },
  {
   "cell_type": "code",
   "execution_count": 21,
   "metadata": {
    "tags": []
   },
   "outputs": [
    {
     "name": "stdout",
     "output_type": "stream",
     "text": [
      "15\n",
      "number2\n",
      "5.0\n"
     ]
    }
   ],
   "source": [
    "number1 = 15\n",
    "number2 = 3 \n",
    "result = 15 / 3\n",
    "\n",
    "#15\n",
    "print(15)\n",
    "\n",
    "#3\n",
    "print(\"number2\")\n",
    "\n",
    "#5.0\n",
    "print(5.0)"
   ]
  },
  {
   "cell_type": "markdown",
   "metadata": {},
   "source": [
    "Before doing the last exercise of this lab we will go over a special use of \"+\" in python. Besides using it to add two numbers we can use the \"+\" operator to glue together two strings. This special use is called ***string concatenation***."
   ]
  },
  {
   "cell_type": "code",
   "execution_count": 25,
   "metadata": {
    "tags": []
   },
   "outputs": [
    {
     "name": "stdout",
     "output_type": "stream",
     "text": [
      "TaylorWilliams\n"
     ]
    }
   ],
   "source": [
    "firstName = \"Taylor\"\n",
    "lastName = \"Williams\"\n",
    "fullName = firstName + lastName\n",
    "\n",
    "# this will print:\n",
    "print(fullName)"
   ]
  },
  {
   "cell_type": "code",
   "execution_count": 24,
   "metadata": {
    "tags": []
   },
   "outputs": [
    {
     "name": "stdout",
     "output_type": "stream",
     "text": [
      "TaylorWilliams\n"
     ]
    }
   ],
   "source": [
    "firstName = \"Taylor\"\n",
    "LastName = \"Williams\"\n",
    "FullName = firstName + LastName\n",
    "\n",
    "#TaylorWilliams\n",
    "print(\"TaylorWilliams\") "
   ]
  },
  {
   "cell_type": "markdown",
   "metadata": {},
   "source": [
    "If you predicted that it would print \"Taylor Williams\" then you may be a bit confused why it didn't, but don't worry. A computer is very particular about what it does. You need to specify everything exactly... down to the spaces that you want it to print. Because I told Python to glue together \"Taylor\" and \"Williams\" that is exactly what Python did. Since it did not see a space in either of the strings it didn't print it. So if you wanted to print \"Taylor Williams\" then you need to add the space like I do in the next code block:"
   ]
  },
  {
   "cell_type": "code",
   "execution_count": 27,
   "metadata": {
    "tags": []
   },
   "outputs": [
    {
     "name": "stdout",
     "output_type": "stream",
     "text": [
      "Taylor Williams\n",
      "Taylor Williams\n"
     ]
    }
   ],
   "source": [
    "fullName = firstName + \" \" + lastName\n",
    "\n",
    "# This will print the correct full name\n",
    "print(fullName)\n",
    "\n",
    "# You could also add the space in the print statement itself\n",
    "print(firstName + \" \" + lastName)"
   ]
  },
  {
   "cell_type": "code",
   "execution_count": 26,
   "metadata": {
    "tags": []
   },
   "outputs": [
    {
     "name": "stdout",
     "output_type": "stream",
     "text": [
      "TaylorWilliams\n",
      "Taylor Williams\n"
     ]
    }
   ],
   "source": [
    "fullname = firstName + \" \" + lastName\n",
    "\n",
    "#fullname\n",
    "print (fullName) \n",
    "\n",
    "#firstName + \" \" + lastName\n",
    "print(firstName + \" \" + lastName) "
   ]
  },
  {
   "cell_type": "markdown",
   "metadata": {},
   "source": [
    "Note the conventions for naming variables. The variable \"fullName\" starts with small case, but uses upper case to indicate where a new word starts. This is called \"camel case\". Can you see the camel hump? 🐪"
   ]
  },
  {
   "cell_type": "markdown",
   "metadata": {},
   "source": [
    "### User input\n",
    "\n",
    "We will usually read and manipulate files in our local directory or some online source. But, sometimes, you want to ask a user for information. In this part, you'll learn how to do that."
   ]
  },
  {
   "cell_type": "code",
   "execution_count": 30,
   "metadata": {
    "tags": []
   },
   "outputs": [
    {
     "name": "stdout",
     "output_type": "stream",
     "text": [
      "I can do math for you!\n"
     ]
    },
    {
     "name": "stdin",
     "output_type": "stream",
     "text": [
      "Give me a number:  11\n",
      "Give me another number:  12\n"
     ]
    },
    {
     "name": "stdout",
     "output_type": "stream",
     "text": [
      "This is the addition of those two numbers:  23\n"
     ]
    }
   ],
   "source": [
    "print (\"I can do math for you!\")\n",
    "number1 = input (\"Give me a number: \")\n",
    "number2 = input (\"Give me another number: \")\n",
    "print(\"This is the addition of those two numbers: \", int(number1)+int(number2))"
   ]
  },
  {
   "cell_type": "code",
   "execution_count": 29,
   "metadata": {
    "tags": []
   },
   "outputs": [
    {
     "name": "stdout",
     "output_type": "stream",
     "text": [
      "I can do math for you!\n"
     ]
    },
    {
     "name": "stdin",
     "output_type": "stream",
     "text": [
      "Give me a number:  11\n",
      "Give me a another number:  12\n"
     ]
    },
    {
     "name": "stdout",
     "output_type": "stream",
     "text": [
      "This is the addition of those two numbers:  23\n"
     ]
    }
   ],
   "source": [
    "print(\"I can do math for you!\") \n",
    "number1 = input (\"Give me a number: \")\n",
    "number2 = input (\"Give me a another number: \")\n",
    "print(\"This is the addition of those two numbers: \", int(number1)+int(number2))"
   ]
  },
  {
   "cell_type": "markdown",
   "metadata": {},
   "source": [
    "Note that, to do the math, I converted both numbers to \"int\" with the command `int(number1)`. This is in case the user gave me a float and I didn't want to deal with that. "
   ]
  },
  {
   "cell_type": "markdown",
   "metadata": {},
   "source": [
    "***\n",
    "## Your turn\n",
    "Use the information above to do the following and provide both the code and the output. Try to use everything you have learned in this lab. Start by making variables to store the following things: \n",
    "\n",
    "- first name\n",
    "- last name\n",
    "- preferred name\n",
    "- favourite number\n",
    "- favourite colour\n",
    "\n",
    "Then, print: \n",
    "- first name and last name, followed by preferred name in parentheses\n",
    "- print \"My favourite number is x\" where x is your favourite number\n",
    "- pring \"I like the colour y\" where y is your favourite colour\n",
    "\n",
    "Make sure to use string concatenation and the variable that contains it and don't just do the following: `print(\"My favourite number is 7\")`\n",
    "\n",
    "Then, do some math with your favourite number. Multiply your favourite number by itself, add your favourite number to 10, etc. Just try to use all the operators described in this lab.\n",
    "\n",
    "Create a new code cell and ask the user for input and manipulate that input\n",
    "***"
   ]
  },
  {
   "cell_type": "code",
   "execution_count": 41,
   "metadata": {
    "tags": []
   },
   "outputs": [
    {
     "name": "stdout",
     "output_type": "stream",
     "text": [
      "ShubhkarmanToorKarman\n",
      "My favourite number is 11\n",
      "I like the colour Purple\n"
     ]
    }
   ],
   "source": [
    "firstName = \"Shubhkarman\" \n",
    "lastName = \"Toor\" \n",
    "PreferredName = \"Karman\" \n",
    "FullName = firstName + lastName + PreferredName \n",
    "FavouriteNumber = \"My favourite number is 11\"\n",
    "FavouriteColor = \"I like the colour Purple\" \n",
    "\n",
    "#FullName\n",
    "print(FullName)\n",
    "\n",
    "#FavouriteNumber\n",
    "print(FavouriteNumber) \n",
    "\n",
    "#FavouriteColor \n",
    "print(FavouriteColor) "
   ]
  },
  {
   "cell_type": "markdown",
   "metadata": {},
   "source": [
    "That is the end of the lab! 👏\n",
    "\n",
    "If you want to learn more Python on your own, this is a good resource: [Learn Python](https://www.learnpython.org/)"
   ]
  }
 ],
 "metadata": {
  "kernelspec": {
   "display_name": "Python 3 (ipykernel)",
   "language": "python",
   "name": "python3"
  },
  "language_info": {
   "codemirror_mode": {
    "name": "ipython",
    "version": 3
   },
   "file_extension": ".py",
   "mimetype": "text/x-python",
   "name": "python",
   "nbconvert_exporter": "python",
   "pygments_lexer": "ipython3",
   "version": "3.11.4"
  }
 },
 "nbformat": 4,
 "nbformat_minor": 4
}
